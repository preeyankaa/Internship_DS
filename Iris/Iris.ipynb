{
 "cells": [
  {
   "cell_type": "code",
   "execution_count": 16,
   "id": "eea39fb5",
   "metadata": {},
   "outputs": [],
   "source": [
    "# 1 logistic Regression"
   ]
  },
  {
   "cell_type": "code",
   "execution_count": 17,
   "id": "e09d147c",
   "metadata": {},
   "outputs": [],
   "source": [
    "import pandas as pd\n",
    "from sklearn.linear_model import LogisticRegression\n",
    "from sklearn.model_selection import train_test_split\n",
    "from sklearn.metrics import accuracy_score\n",
    "from sklearn.metrics import classification_report\n",
    "from sklearn.metrics import confusion_matrix"
   ]
  },
  {
   "cell_type": "code",
   "execution_count": 18,
   "id": "e1ccfbd5",
   "metadata": {},
   "outputs": [],
   "source": [
    "logr=LogisticRegression()\n",
    "\n",
    "df=pd.read_csv(\"Iris.csv\")\n"
   ]
  },
  {
   "cell_type": "code",
   "execution_count": 19,
   "id": "7291c745",
   "metadata": {},
   "outputs": [],
   "source": [
    "x = df.drop('Id', axis=1)\n",
    "x = x.drop('Species', axis=1)\n",
    "y = df['Species']"
   ]
  },
  {
   "cell_type": "code",
   "execution_count": 20,
   "id": "59d1ea2b",
   "metadata": {},
   "outputs": [
    {
     "name": "stdout",
     "output_type": "stream",
     "text": [
      "     SepalLengthCm  SepalWidthCm  PetalLengthCm  PetalWidthCm\n",
      "118            7.7           2.6            6.9           2.3\n",
      "18             5.7           3.8            1.7           0.3\n",
      "4              5.0           3.6            1.4           0.2\n",
      "45             4.8           3.0            1.4           0.3\n",
      "59             5.2           2.7            3.9           1.4\n",
      "..             ...           ...            ...           ...\n",
      "133            6.3           2.8            5.1           1.5\n",
      "137            6.4           3.1            5.5           1.8\n",
      "72             6.3           2.5            4.9           1.5\n",
      "140            6.7           3.1            5.6           2.4\n",
      "37             4.9           3.1            1.5           0.1\n",
      "\n",
      "[105 rows x 4 columns]\n",
      "     SepalLengthCm  SepalWidthCm  PetalLengthCm  PetalWidthCm\n",
      "14             5.8           4.0            1.2           0.2\n",
      "98             5.1           2.5            3.0           1.1\n",
      "75             6.6           3.0            4.4           1.4\n",
      "16             5.4           3.9            1.3           0.4\n",
      "131            7.9           3.8            6.4           2.0\n",
      "56             6.3           3.3            4.7           1.6\n",
      "141            6.9           3.1            5.1           2.3\n",
      "44             5.1           3.8            1.9           0.4\n",
      "29             4.7           3.2            1.6           0.2\n",
      "120            6.9           3.2            5.7           2.3\n",
      "94             5.6           2.7            4.2           1.3\n",
      "5              5.4           3.9            1.7           0.4\n",
      "102            7.1           3.0            5.9           2.1\n",
      "51             6.4           3.2            4.5           1.5\n",
      "78             6.0           2.9            4.5           1.5\n",
      "42             4.4           3.2            1.3           0.2\n",
      "92             5.8           2.6            4.0           1.2\n",
      "66             5.6           3.0            4.5           1.5\n",
      "31             5.4           3.4            1.5           0.4\n",
      "35             5.0           3.2            1.2           0.2\n",
      "90             5.5           2.6            4.4           1.2\n",
      "84             5.4           3.0            4.5           1.5\n",
      "77             6.7           3.0            5.0           1.7\n",
      "40             5.0           3.5            1.3           0.3\n",
      "125            7.2           3.2            6.0           1.8\n",
      "99             5.7           2.8            4.1           1.3\n",
      "33             5.5           4.2            1.4           0.2\n",
      "19             5.1           3.8            1.5           0.3\n",
      "73             6.1           2.8            4.7           1.2\n",
      "146            6.3           2.5            5.0           1.9\n",
      "91             6.1           3.0            4.6           1.4\n",
      "135            7.7           3.0            6.1           2.3\n",
      "69             5.6           2.5            3.9           1.1\n",
      "128            6.4           2.8            5.6           2.1\n",
      "114            5.8           2.8            5.1           2.4\n",
      "48             5.3           3.7            1.5           0.2\n",
      "53             5.5           2.3            4.0           1.3\n",
      "28             5.2           3.4            1.4           0.2\n",
      "54             6.5           2.8            4.6           1.5\n",
      "108            6.7           2.5            5.8           1.8\n",
      "112            6.8           3.0            5.5           2.1\n",
      "17             5.1           3.5            1.4           0.3\n",
      "119            6.0           2.2            5.0           1.5\n",
      "103            6.3           2.9            5.6           1.8\n",
      "58             6.6           2.9            4.6           1.3\n",
      "118     Iris-virginica\n",
      "18         Iris-setosa\n",
      "4          Iris-setosa\n",
      "45         Iris-setosa\n",
      "59     Iris-versicolor\n",
      "            ...       \n",
      "133     Iris-virginica\n",
      "137     Iris-virginica\n",
      "72     Iris-versicolor\n",
      "140     Iris-virginica\n",
      "37         Iris-setosa\n",
      "Name: Species, Length: 105, dtype: object\n",
      "14         Iris-setosa\n",
      "98     Iris-versicolor\n",
      "75     Iris-versicolor\n",
      "16         Iris-setosa\n",
      "131     Iris-virginica\n",
      "56     Iris-versicolor\n",
      "141     Iris-virginica\n",
      "44         Iris-setosa\n",
      "29         Iris-setosa\n",
      "120     Iris-virginica\n",
      "94     Iris-versicolor\n",
      "5          Iris-setosa\n",
      "102     Iris-virginica\n",
      "51     Iris-versicolor\n",
      "78     Iris-versicolor\n",
      "42         Iris-setosa\n",
      "92     Iris-versicolor\n",
      "66     Iris-versicolor\n",
      "31         Iris-setosa\n",
      "35         Iris-setosa\n",
      "90     Iris-versicolor\n",
      "84     Iris-versicolor\n",
      "77     Iris-versicolor\n",
      "40         Iris-setosa\n",
      "125     Iris-virginica\n",
      "99     Iris-versicolor\n",
      "33         Iris-setosa\n",
      "19         Iris-setosa\n",
      "73     Iris-versicolor\n",
      "146     Iris-virginica\n",
      "91     Iris-versicolor\n",
      "135     Iris-virginica\n",
      "69     Iris-versicolor\n",
      "128     Iris-virginica\n",
      "114     Iris-virginica\n",
      "48         Iris-setosa\n",
      "53     Iris-versicolor\n",
      "28         Iris-setosa\n",
      "54     Iris-versicolor\n",
      "108     Iris-virginica\n",
      "112     Iris-virginica\n",
      "17         Iris-setosa\n",
      "119     Iris-virginica\n",
      "103     Iris-virginica\n",
      "58     Iris-versicolor\n",
      "Name: Species, dtype: object\n"
     ]
    }
   ],
   "source": [
    "X_train, X_test, y_train, y_test = train_test_split(x,y,random_state=1,test_size=0.3)\n",
    "\n",
    "print(X_train)\n",
    "print(X_test)\n",
    "print(y_train)\n",
    "print(y_test)"
   ]
  },
  {
   "cell_type": "code",
   "execution_count": 21,
   "id": "93a49365",
   "metadata": {},
   "outputs": [
    {
     "name": "stdout",
     "output_type": "stream",
     "text": [
      "Accuracy:  0.9777777777777777\n",
      "\n",
      "Classification report\n",
      "                 precision    recall  f1-score   support\n",
      "\n",
      "    Iris-setosa       1.00      1.00      1.00        14\n",
      "Iris-versicolor       1.00      0.94      0.97        18\n",
      " Iris-virginica       0.93      1.00      0.96        13\n",
      "\n",
      "       accuracy                           0.98        45\n",
      "      macro avg       0.98      0.98      0.98        45\n",
      "   weighted avg       0.98      0.98      0.98        45\n",
      "\n",
      "\n",
      "Confusion Matrix\n",
      "[[14  0  0]\n",
      " [ 0 17  1]\n",
      " [ 0  0 13]]\n"
     ]
    },
    {
     "name": "stderr",
     "output_type": "stream",
     "text": [
      "C:\\ProgramData\\Anaconda3\\lib\\site-packages\\sklearn\\linear_model\\_logistic.py:814: ConvergenceWarning: lbfgs failed to converge (status=1):\n",
      "STOP: TOTAL NO. of ITERATIONS REACHED LIMIT.\n",
      "\n",
      "Increase the number of iterations (max_iter) or scale the data as shown in:\n",
      "    https://scikit-learn.org/stable/modules/preprocessing.html\n",
      "Please also refer to the documentation for alternative solver options:\n",
      "    https://scikit-learn.org/stable/modules/linear_model.html#logistic-regression\n",
      "  n_iter_i = _check_optimize_result(\n"
     ]
    }
   ],
   "source": [
    "logr.fit(X_train,y_train)\n",
    "\n",
    "y_pred=logr.predict(X_test)\n",
    "\n",
    "# print(train.coef_)\n",
    "# print(train.intercept_)\n",
    "\n",
    "print(\"Accuracy: \",accuracy_score(y_test,y_pred))\n",
    "print()\n",
    "print(\"Classification report\")\n",
    "print(classification_report(y_test,y_pred))\n",
    "print()\n",
    "print(\"Confusion Matrix\")\n",
    "print(confusion_matrix(y_test,y_pred))"
   ]
  },
  {
   "cell_type": "code",
   "execution_count": 22,
   "id": "abfb1d76",
   "metadata": {},
   "outputs": [],
   "source": [
    "# 2  Naive Bayes Classifier"
   ]
  },
  {
   "cell_type": "code",
   "execution_count": 23,
   "id": "6c5bc7f5",
   "metadata": {},
   "outputs": [],
   "source": [
    "from sklearn.naive_bayes import GaussianNB\n",
    "\n",
    "from sklearn.model_selection import train_test_split\n",
    "from sklearn.metrics import  accuracy_score"
   ]
  },
  {
   "cell_type": "code",
   "execution_count": 26,
   "id": "c83c65d9",
   "metadata": {},
   "outputs": [],
   "source": [
    "nb=GaussianNB()\n",
    "\n",
    "X_train, X_test, y_train, y_test = train_test_split(x, y, random_state=0,test_size=0.4)\n",
    "\n"
   ]
  },
  {
   "cell_type": "code",
   "execution_count": 27,
   "id": "9ae4c152",
   "metadata": {},
   "outputs": [
    {
     "data": {
      "text/plain": [
       "GaussianNB()"
      ]
     },
     "execution_count": 27,
     "metadata": {},
     "output_type": "execute_result"
    }
   ],
   "source": [
    "nb.fit(X_train,y_train)\n",
    "\n"
   ]
  },
  {
   "cell_type": "code",
   "execution_count": 28,
   "id": "599c82ce",
   "metadata": {},
   "outputs": [],
   "source": [
    "y_pred1=nb.predict(X_test)\n"
   ]
  },
  {
   "cell_type": "code",
   "execution_count": 31,
   "id": "897eb4f4",
   "metadata": {},
   "outputs": [
    {
     "name": "stdout",
     "output_type": "stream",
     "text": [
      "Naive Bayes:  0.9333333333333333\n"
     ]
    }
   ],
   "source": [
    "\n",
    "print(\"Naive Bayes: \",accuracy_score(y_test,y_pred1))"
   ]
  },
  {
   "cell_type": "code",
   "execution_count": 32,
   "id": "7554e985",
   "metadata": {},
   "outputs": [],
   "source": [
    "# 3  KNN\n"
   ]
  },
  {
   "cell_type": "code",
   "execution_count": 33,
   "id": "24efc960",
   "metadata": {},
   "outputs": [],
   "source": [
    "from sklearn.model_selection import train_test_split\n",
    "from sklearn.neighbors import KNeighborsClassifier\n",
    "from sklearn.metrics import accuracy_score"
   ]
  },
  {
   "cell_type": "code",
   "execution_count": 34,
   "id": "22949d54",
   "metadata": {},
   "outputs": [
    {
     "name": "stdout",
     "output_type": "stream",
     "text": [
      "0.9736842105263158\n"
     ]
    }
   ],
   "source": [
    "knn=KNeighborsClassifier(n_neighbors=5)\n",
    "\n",
    "X_train,X_test,y_train,y_test=train_test_split(x,y,random_state=0)\n",
    "\n",
    "train=knn.fit(X_train,y_train)\n",
    "\n",
    "y_pred=knn.predict(X_test)\n",
    "\n",
    "print(accuracy_score(y_test,y_pred))\n"
   ]
  },
  {
   "cell_type": "code",
   "execution_count": 35,
   "id": "db217cfe",
   "metadata": {},
   "outputs": [],
   "source": [
    "# 4  Decision tree"
   ]
  },
  {
   "cell_type": "code",
   "execution_count": 36,
   "id": "df365914",
   "metadata": {},
   "outputs": [
    {
     "name": "stdout",
     "output_type": "stream",
     "text": [
      "0.9777777777777777\n"
     ]
    }
   ],
   "source": [
    "from sklearn import tree\n",
    "from sklearn.metrics import accuracy_score\n",
    "from sklearn.model_selection import train_test_split\n",
    "\n",
    "dt=tree.DecisionTreeClassifier()\n",
    "\n",
    "X_train,X_test,y_train,y_test=train_test_split(x,y,random_state=0,test_size=0.3)\n",
    "\n",
    "train=dt.fit(X_train,y_train)\n",
    "\n",
    "y_pred=dt.predict(X_test)\n",
    "\n",
    "print(accuracy_score(y_test,y_pred))"
   ]
  },
  {
   "cell_type": "code",
   "execution_count": 37,
   "id": "68858533",
   "metadata": {},
   "outputs": [],
   "source": [
    "# 5 Random Forest "
   ]
  },
  {
   "cell_type": "code",
   "execution_count": 38,
   "id": "596a4d43",
   "metadata": {},
   "outputs": [],
   "source": [
    "from sklearn.model_selection import train_test_split\n",
    "from sklearn.metrics import accuracy_score\n",
    "from sklearn.ensemble import RandomForestClassifier\n"
   ]
  },
  {
   "cell_type": "code",
   "execution_count": 39,
   "id": "71edcd08",
   "metadata": {},
   "outputs": [],
   "source": [
    "rf=RandomForestClassifier()"
   ]
  },
  {
   "cell_type": "code",
   "execution_count": 40,
   "id": "6ecb1c9c",
   "metadata": {},
   "outputs": [],
   "source": [
    "X_train,X_test,y_train,y_test=train_test_split(x,y,random_state=0,test_size=0.3)"
   ]
  },
  {
   "cell_type": "code",
   "execution_count": 41,
   "id": "6df10407",
   "metadata": {},
   "outputs": [],
   "source": [
    "train=rf.fit(X_train,y_train)"
   ]
  },
  {
   "cell_type": "code",
   "execution_count": 42,
   "id": "a99abe15",
   "metadata": {},
   "outputs": [],
   "source": [
    "y_pred=rf.predict(X_test)"
   ]
  },
  {
   "cell_type": "code",
   "execution_count": 43,
   "id": "433fbe60",
   "metadata": {},
   "outputs": [
    {
     "name": "stdout",
     "output_type": "stream",
     "text": [
      "0.9777777777777777\n"
     ]
    }
   ],
   "source": [
    "print(accuracy_score(y_test,y_pred))"
   ]
  },
  {
   "cell_type": "code",
   "execution_count": 44,
   "id": "0275beaa",
   "metadata": {},
   "outputs": [],
   "source": [
    "# 6 Gradient Boosting"
   ]
  },
  {
   "cell_type": "code",
   "execution_count": 45,
   "id": "331dba52",
   "metadata": {},
   "outputs": [],
   "source": [
    "from sklearn.ensemble import GradientBoostingClassifier"
   ]
  },
  {
   "cell_type": "code",
   "execution_count": 46,
   "id": "b906c584",
   "metadata": {},
   "outputs": [
    {
     "name": "stdout",
     "output_type": "stream",
     "text": [
      "GBM:  1.0\n"
     ]
    }
   ],
   "source": [
    "gbm=GradientBoostingClassifier(n_estimators=10)\n",
    "\n",
    "X_train,X_test,Y_train,Y_test=train_test_split(x,y,random_state=0,test_size=0.2)\n",
    "\n",
    "gbm.fit(X_train,Y_train)\n",
    "\n",
    "y_pred=gbm.predict(X_test)\n",
    "\n",
    "print(\"GBM: \",accuracy_score(Y_test,y_pred))\n"
   ]
  },
  {
   "cell_type": "code",
   "execution_count": null,
   "id": "00449875",
   "metadata": {},
   "outputs": [],
   "source": []
  }
 ],
 "metadata": {
  "kernelspec": {
   "display_name": "Python 3 (ipykernel)",
   "language": "python",
   "name": "python3"
  },
  "language_info": {
   "codemirror_mode": {
    "name": "ipython",
    "version": 3
   },
   "file_extension": ".py",
   "mimetype": "text/x-python",
   "name": "python",
   "nbconvert_exporter": "python",
   "pygments_lexer": "ipython3",
   "version": "3.9.12"
  }
 },
 "nbformat": 4,
 "nbformat_minor": 5
}
